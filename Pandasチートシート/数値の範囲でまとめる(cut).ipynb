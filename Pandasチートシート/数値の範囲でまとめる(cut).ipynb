{
 "cells": [
  {
   "cell_type": "markdown",
   "metadata": {},
   "source": [
    "# pandas-cheatsheet-数値の範囲でまとめる(cut)"
   ]
  },
  {
   "cell_type": "markdown",
   "metadata": {},
   "source": [
    "## 数値の範囲で分類する\n",
    "* http://ailaby.com/cut_qcut/"
   ]
  },
  {
   "cell_type": "code",
   "execution_count": 8,
   "metadata": {},
   "outputs": [
    {
     "data": {
      "text/plain": [
       "array([10,  2,  2,  2,  1,  6])"
      ]
     },
     "execution_count": 8,
     "metadata": {},
     "output_type": "execute_result"
    }
   ],
   "source": [
    "import numpy as np\n",
    "data = np.random.randint(1, 11, 6)\n",
    "data"
   ]
  },
  {
   "cell_type": "code",
   "execution_count": 9,
   "metadata": {},
   "outputs": [
    {
     "data": {
      "text/plain": [
       "[(7, 10], (0, 3], (0, 3], (0, 3], (0, 3], (3, 7]]\n",
       "Categories (3, object): [(0, 3] < (3, 7] < (7, 10]]"
      ]
     },
     "execution_count": 9,
     "metadata": {},
     "output_type": "execute_result"
    }
   ],
   "source": [
    "import pandas as pd\n",
    "pd.cut(data, [0, 3, 7, 10])"
   ]
  },
  {
   "cell_type": "markdown",
   "metadata": {},
   "source": [
    "* ” ( ” は下限値を含まない、” ] ” は上限値を含むという意味です。\n",
    "    * (0, 3] は 1～3 を意味します。\n",
    "    * (3, 7] は 4～7 を意味します。\n",
    "    * (7, 10] は 8～10 を意味します。"
   ]
  },
  {
   "cell_type": "code",
   "execution_count": 10,
   "metadata": {},
   "outputs": [
    {
     "data": {
      "text/plain": [
       "Low       4\n",
       "Middle    1\n",
       "High      1\n",
       "dtype: int64"
      ]
     },
     "execution_count": 10,
     "metadata": {},
     "output_type": "execute_result"
    }
   ],
   "source": [
    "labels=['Low', 'Middle', 'High']\n",
    "pd.cut(data, [0, 3, 7, 10], labels=labels).value_counts()"
   ]
  },
  {
   "cell_type": "markdown",
   "metadata": {},
   "source": [
    "* [pandas で年齢階級をつくる - Qiita](https://qiita.com/kshigeru/items/bfa8c11d1e6487c791d3)"
   ]
  },
  {
   "cell_type": "code",
   "execution_count": 12,
   "metadata": {},
   "outputs": [
    {
     "data": {
      "text/plain": [
       "'G:\\\\Repository'"
      ]
     },
     "execution_count": 12,
     "metadata": {},
     "output_type": "execute_result"
    }
   ],
   "source": [
    "pwd"
   ]
  },
  {
   "cell_type": "code",
   "execution_count": 71,
   "metadata": {},
   "outputs": [
    {
     "data": {
      "text/html": [
       "<div>\n",
       "<table border=\"1\" class=\"dataframe\">\n",
       "  <thead>\n",
       "    <tr style=\"text-align: right;\">\n",
       "      <th></th>\n",
       "      <th>1920</th>\n",
       "      <th>1930</th>\n",
       "      <th>1940</th>\n",
       "      <th>1950</th>\n",
       "      <th>1960</th>\n",
       "      <th>1970</th>\n",
       "      <th>1980</th>\n",
       "      <th>1990</th>\n",
       "      <th>2000</th>\n",
       "      <th>2010</th>\n",
       "    </tr>\n",
       "  </thead>\n",
       "  <tbody>\n",
       "    <tr>\n",
       "      <th>0</th>\n",
       "      <td>1,877,543</td>\n",
       "      <td>1,952,306</td>\n",
       "      <td>1,998,647</td>\n",
       "      <td>2,315,990</td>\n",
       "      <td>1,576,913</td>\n",
       "      <td>1,877,521</td>\n",
       "      <td>1,586,504</td>\n",
       "      <td>1,213,685</td>\n",
       "      <td>1,171,652</td>\n",
       "      <td>1,045,975</td>\n",
       "    </tr>\n",
       "    <tr>\n",
       "      <th>1</th>\n",
       "      <td>1,392,988</td>\n",
       "      <td>1,799,131</td>\n",
       "      <td>1,674,304</td>\n",
       "      <td>2,522,681</td>\n",
       "      <td>1,594,841</td>\n",
       "      <td>1,862,600</td>\n",
       "      <td>1,636,235</td>\n",
       "      <td>1,260,478</td>\n",
       "      <td>1,166,160</td>\n",
       "      <td>1,045,417</td>\n",
       "    </tr>\n",
       "    <tr>\n",
       "      <th>2</th>\n",
       "      <td>1,387,685</td>\n",
       "      <td>1,749,485</td>\n",
       "      <td>1,769,555</td>\n",
       "      <td>2,479,988</td>\n",
       "      <td>1,549,114</td>\n",
       "      <td>1,818,359</td>\n",
       "      <td>1,706,055</td>\n",
       "      <td>1,301,517</td>\n",
       "      <td>1,192,157</td>\n",
       "      <td>1,074,194</td>\n",
       "    </tr>\n",
       "    <tr>\n",
       "      <th>3</th>\n",
       "      <td>1,391,499</td>\n",
       "      <td>1,773,731</td>\n",
       "      <td>1,831,578</td>\n",
       "      <td>2,346,977</td>\n",
       "      <td>1,513,111</td>\n",
       "      <td>1,822,747</td>\n",
       "      <td>1,749,163</td>\n",
       "      <td>1,343,438</td>\n",
       "      <td>1,189,303</td>\n",
       "      <td>1,069,540</td>\n",
       "    </tr>\n",
       "    <tr>\n",
       "      <th>4</th>\n",
       "      <td>1,408,000</td>\n",
       "      <td>1,736,482</td>\n",
       "      <td>1,853,925</td>\n",
       "      <td>1,539,821</td>\n",
       "      <td>1,610,454</td>\n",
       "      <td>1,424,592</td>\n",
       "      <td>1,837,459</td>\n",
       "      <td>1,373,779</td>\n",
       "      <td>1,184,826</td>\n",
       "      <td>1,061,622</td>\n",
       "    </tr>\n",
       "  </tbody>\n",
       "</table>\n",
       "</div>"
      ],
      "text/plain": [
       "        1920       1930       1940       1950       1960       1970  \\\n",
       "0  1,877,543  1,952,306  1,998,647  2,315,990  1,576,913  1,877,521   \n",
       "1  1,392,988  1,799,131  1,674,304  2,522,681  1,594,841  1,862,600   \n",
       "2  1,387,685  1,749,485  1,769,555  2,479,988  1,549,114  1,818,359   \n",
       "3  1,391,499  1,773,731  1,831,578  2,346,977  1,513,111  1,822,747   \n",
       "4  1,408,000  1,736,482  1,853,925  1,539,821  1,610,454  1,424,592   \n",
       "\n",
       "        1980       1990       2000       2010  \n",
       "0  1,586,504  1,213,685  1,171,652  1,045,975  \n",
       "1  1,636,235  1,260,478  1,166,160  1,045,417  \n",
       "2  1,706,055  1,301,517  1,192,157  1,074,194  \n",
       "3  1,749,163  1,343,438  1,189,303  1,069,540  \n",
       "4  1,837,459  1,373,779  1,184,826  1,061,622  "
      ]
     },
     "execution_count": 71,
     "metadata": {},
     "output_type": "execute_result"
    }
   ],
   "source": [
    "import pandas as pd\n",
    "df = pd.read_csv('data/y0207000.csv')\n",
    "del df['Unnamed: 0']\n",
    "df.head()"
   ]
  },
  {
   "cell_type": "code",
   "execution_count": 72,
   "metadata": {},
   "outputs": [
    {
     "data": {
      "text/html": [
       "<div>\n",
       "<table border=\"1\" class=\"dataframe\">\n",
       "  <thead>\n",
       "    <tr style=\"text-align: right;\">\n",
       "      <th></th>\n",
       "      <th>1920</th>\n",
       "      <th>1930</th>\n",
       "      <th>1940</th>\n",
       "      <th>1950</th>\n",
       "      <th>1960</th>\n",
       "      <th>1970</th>\n",
       "      <th>1980</th>\n",
       "      <th>1990</th>\n",
       "      <th>2000</th>\n",
       "      <th>2010</th>\n",
       "    </tr>\n",
       "  </thead>\n",
       "  <tbody>\n",
       "    <tr>\n",
       "      <th>96</th>\n",
       "      <td>459</td>\n",
       "      <td>503</td>\n",
       "      <td>548</td>\n",
       "      <td>686</td>\n",
       "      <td>715</td>\n",
       "      <td>1,612</td>\n",
       "      <td>3,595</td>\n",
       "      <td>9,943</td>\n",
       "      <td>29,798</td>\n",
       "      <td>77,372</td>\n",
       "    </tr>\n",
       "    <tr>\n",
       "      <th>97</th>\n",
       "      <td>430</td>\n",
       "      <td>565</td>\n",
       "      <td>316</td>\n",
       "      <td>255</td>\n",
       "      <td>339</td>\n",
       "      <td>982</td>\n",
       "      <td>2,305</td>\n",
       "      <td>6,348</td>\n",
       "      <td>21,687</td>\n",
       "      <td>55,845</td>\n",
       "    </tr>\n",
       "    <tr>\n",
       "      <th>98</th>\n",
       "      <td>302</td>\n",
       "      <td>546</td>\n",
       "      <td>205</td>\n",
       "      <td>151</td>\n",
       "      <td>198</td>\n",
       "      <td>555</td>\n",
       "      <td>1,334</td>\n",
       "      <td>3,962</td>\n",
       "      <td>14,648</td>\n",
       "      <td>39,826</td>\n",
       "    </tr>\n",
       "    <tr>\n",
       "      <th>99</th>\n",
       "      <td>44</td>\n",
       "      <td>450</td>\n",
       "      <td>158</td>\n",
       "      <td>90</td>\n",
       "      <td>121</td>\n",
       "      <td>297</td>\n",
       "      <td>828</td>\n",
       "      <td>2,356</td>\n",
       "      <td>9,926</td>\n",
       "      <td>26,087</td>\n",
       "    </tr>\n",
       "    <tr>\n",
       "      <th>100</th>\n",
       "      <td>113</td>\n",
       "      <td>105</td>\n",
       "      <td>187</td>\n",
       "      <td>97</td>\n",
       "      <td>144</td>\n",
       "      <td>308</td>\n",
       "      <td>989</td>\n",
       "      <td>3,223</td>\n",
       "      <td>12,256</td>\n",
       "      <td>43,882</td>\n",
       "    </tr>\n",
       "  </tbody>\n",
       "</table>\n",
       "</div>"
      ],
      "text/plain": [
       "    1920 1930 1940 1950 1960   1970   1980   1990    2000    2010\n",
       "96   459  503  548  686  715  1,612  3,595  9,943  29,798  77,372\n",
       "97   430  565  316  255  339    982  2,305  6,348  21,687  55,845\n",
       "98   302  546  205  151  198    555  1,334  3,962  14,648  39,826\n",
       "99    44  450  158   90  121    297    828  2,356   9,926  26,087\n",
       "100  113  105  187   97  144    308    989  3,223  12,256  43,882"
      ]
     },
     "execution_count": 72,
     "metadata": {},
     "output_type": "execute_result"
    }
   ],
   "source": [
    "df.tail()"
   ]
  },
  {
   "cell_type": "code",
   "execution_count": 73,
   "metadata": {},
   "outputs": [
    {
     "data": {
      "text/plain": [
       "1920    object\n",
       "1930    object\n",
       "1940    object\n",
       "1950    object\n",
       "1960    object\n",
       "1970    object\n",
       "1980    object\n",
       "1990    object\n",
       "2000    object\n",
       "2010    object\n",
       "dtype: object"
      ]
     },
     "execution_count": 73,
     "metadata": {},
     "output_type": "execute_result"
    }
   ],
   "source": [
    "df.dtypes"
   ]
  },
  {
   "cell_type": "markdown",
   "metadata": {},
   "source": [
    "* [Python pandasでカンマタブ混じりのcsvファイルを読み込み整形する - Qiita](https://qiita.com/sfujita99/items/23077362b26b887a842f)"
   ]
  },
  {
   "cell_type": "code",
   "execution_count": 74,
   "metadata": {},
   "outputs": [
    {
     "data": {
      "text/plain": [
       "(101, 10)"
      ]
     },
     "execution_count": 74,
     "metadata": {},
     "output_type": "execute_result"
    }
   ],
   "source": [
    "df.shape"
   ]
  },
  {
   "cell_type": "code",
   "execution_count": 75,
   "metadata": {},
   "outputs": [
    {
     "data": {
      "text/plain": [
       "0    1,877,543\n",
       "1    1,392,988\n",
       "2    1,387,685\n",
       "Name: 1920, dtype: object"
      ]
     },
     "execution_count": 75,
     "metadata": {},
     "output_type": "execute_result"
    }
   ],
   "source": [
    "df[df.columns[0]][:3]"
   ]
  },
  {
   "cell_type": "markdown",
   "metadata": {},
   "source": [
    "## カンマを取り除き、整数に変換する\n",
    "* [Python pandasでカンマタブ混じりのcsvファイルを読み込み整形する - Qiita](https://qiita.com/sfujita99/items/23077362b26b887a842f)\n",
    "    * 一部修正\n",
    "    ```\n",
    "    for i in range(df.shape[1]):\n",
    "        df[i] = df[df.columns[i]].astype(float)\n",
    "    ```\n",
    "* [<Python, pandas> 文字列の置換 - ねこゆきのメモ](http://nekoyukimmm.hatenablog.com/entry/2016/11/11/144255)\n",
    "    * df['column'].str.replace('','')を使う。"
   ]
  },
  {
   "cell_type": "code",
   "execution_count": 77,
   "metadata": {},
   "outputs": [],
   "source": [
    "for i in range(df.shape[1]):\n",
    "    df[df.columns[i]] = df[df.columns[i]].str.replace(',', '').astype(int)"
   ]
  },
  {
   "cell_type": "code",
   "execution_count": 68,
   "metadata": {},
   "outputs": [
    {
     "data": {
      "text/html": [
       "<div>\n",
       "<table border=\"1\" class=\"dataframe\">\n",
       "  <thead>\n",
       "    <tr style=\"text-align: right;\">\n",
       "      <th></th>\n",
       "      <th>1920</th>\n",
       "      <th>1930</th>\n",
       "      <th>1940</th>\n",
       "      <th>1950</th>\n",
       "      <th>1960</th>\n",
       "      <th>1970</th>\n",
       "      <th>1980</th>\n",
       "      <th>1990</th>\n",
       "      <th>2000</th>\n",
       "      <th>2010</th>\n",
       "    </tr>\n",
       "  </thead>\n",
       "  <tbody>\n",
       "    <tr>\n",
       "      <th>0</th>\n",
       "      <td>1877543</td>\n",
       "      <td>1952306</td>\n",
       "      <td>1998647</td>\n",
       "      <td>2315990</td>\n",
       "      <td>1576913</td>\n",
       "      <td>1877521</td>\n",
       "      <td>1586504</td>\n",
       "      <td>1213685</td>\n",
       "      <td>1171652</td>\n",
       "      <td>1045975</td>\n",
       "    </tr>\n",
       "    <tr>\n",
       "      <th>1</th>\n",
       "      <td>1392988</td>\n",
       "      <td>1799131</td>\n",
       "      <td>1674304</td>\n",
       "      <td>2522681</td>\n",
       "      <td>1594841</td>\n",
       "      <td>1862600</td>\n",
       "      <td>1636235</td>\n",
       "      <td>1260478</td>\n",
       "      <td>1166160</td>\n",
       "      <td>1045417</td>\n",
       "    </tr>\n",
       "    <tr>\n",
       "      <th>2</th>\n",
       "      <td>1387685</td>\n",
       "      <td>1749485</td>\n",
       "      <td>1769555</td>\n",
       "      <td>2479988</td>\n",
       "      <td>1549114</td>\n",
       "      <td>1818359</td>\n",
       "      <td>1706055</td>\n",
       "      <td>1301517</td>\n",
       "      <td>1192157</td>\n",
       "      <td>1074194</td>\n",
       "    </tr>\n",
       "    <tr>\n",
       "      <th>3</th>\n",
       "      <td>1391499</td>\n",
       "      <td>1773731</td>\n",
       "      <td>1831578</td>\n",
       "      <td>2346977</td>\n",
       "      <td>1513111</td>\n",
       "      <td>1822747</td>\n",
       "      <td>1749163</td>\n",
       "      <td>1343438</td>\n",
       "      <td>1189303</td>\n",
       "      <td>1069540</td>\n",
       "    </tr>\n",
       "    <tr>\n",
       "      <th>4</th>\n",
       "      <td>1408000</td>\n",
       "      <td>1736482</td>\n",
       "      <td>1853925</td>\n",
       "      <td>1539821</td>\n",
       "      <td>1610454</td>\n",
       "      <td>1424592</td>\n",
       "      <td>1837459</td>\n",
       "      <td>1373779</td>\n",
       "      <td>1184826</td>\n",
       "      <td>1061622</td>\n",
       "    </tr>\n",
       "  </tbody>\n",
       "</table>\n",
       "</div>"
      ],
      "text/plain": [
       "      1920     1930     1940     1950     1960     1970     1980     1990  \\\n",
       "0  1877543  1952306  1998647  2315990  1576913  1877521  1586504  1213685   \n",
       "1  1392988  1799131  1674304  2522681  1594841  1862600  1636235  1260478   \n",
       "2  1387685  1749485  1769555  2479988  1549114  1818359  1706055  1301517   \n",
       "3  1391499  1773731  1831578  2346977  1513111  1822747  1749163  1343438   \n",
       "4  1408000  1736482  1853925  1539821  1610454  1424592  1837459  1373779   \n",
       "\n",
       "      2000     2010  \n",
       "0  1171652  1045975  \n",
       "1  1166160  1045417  \n",
       "2  1192157  1074194  \n",
       "3  1189303  1069540  \n",
       "4  1184826  1061622  "
      ]
     },
     "execution_count": 68,
     "metadata": {},
     "output_type": "execute_result"
    }
   ],
   "source": [
    "df.head()"
   ]
  },
  {
   "cell_type": "code",
   "execution_count": 82,
   "metadata": {},
   "outputs": [
    {
     "data": {
      "text/plain": [
       "1920    int32\n",
       "1930    int32\n",
       "1940    int32\n",
       "1950    int32\n",
       "1960    int32\n",
       "1970    int32\n",
       "1980    int32\n",
       "1990    int32\n",
       "2000    int32\n",
       "2010    int32\n",
       "dtype: object"
      ]
     },
     "execution_count": 82,
     "metadata": {},
     "output_type": "execute_result"
    }
   ],
   "source": [
    "df.dtypes"
   ]
  },
  {
   "cell_type": "code",
   "execution_count": 79,
   "metadata": {},
   "outputs": [
    {
     "data": {
      "text/plain": [
       "Index(['1920', '1930', '1940', '1950', '1960', '1970', '1980', '1990', '2000',\n",
       "       '2010'],\n",
       "      dtype='object')"
      ]
     },
     "execution_count": 79,
     "metadata": {},
     "output_type": "execute_result"
    }
   ],
   "source": [
    "df.columns"
   ]
  },
  {
   "cell_type": "markdown",
   "metadata": {},
   "source": [
    "## カンマが取り除かれていれば、ここで変換してもいい。"
   ]
  },
  {
   "cell_type": "code",
   "execution_count": 81,
   "metadata": {},
   "outputs": [],
   "source": [
    "df[df.columns] = df[df.columns].astype(int)"
   ]
  },
  {
   "cell_type": "code",
   "execution_count": 83,
   "metadata": {},
   "outputs": [
    {
     "name": "stdout",
     "output_type": "stream",
     "text": [
      "['0 - 9', '10 - 19', '20 - 29', '30 - 39', '40 - 49', '50 - 59', '60 - 69', '70 - 79', '80 - 89', '90 - 99']\n"
     ]
    },
    {
     "data": {
      "text/plain": [
       "[0 - 9, 0 - 9, 0 - 9, 0 - 9, 0 - 9, ..., 90 - 99, 90 - 99, 90 - 99, 90 - 99, NaN]\n",
       "Length: 101\n",
       "Categories (10, object): [0 - 9 < 10 - 19 < 20 - 29 < 30 - 39 ... 60 - 69 < 70 - 79 < 80 - 89 < 90 - 99]"
      ]
     },
     "execution_count": 83,
     "metadata": {},
     "output_type": "execute_result"
    }
   ],
   "source": [
    "import numpy as np\n",
    "\n",
    "labels = [ \"{0} - {1}\".format(i, i + 9) for i in range(0, 100, 10) ]\n",
    "print(labels)\n",
    "c = pd.cut(df.index, np.arange(0, 101, 10),\n",
    "           include_lowest=True, right=False,\n",
    "           labels=labels)\n",
    "c"
   ]
  },
  {
   "cell_type": "markdown",
   "metadata": {},
   "source": [
    "100のところが...\n",
    "\n",
    "* 以下のようにlabelsのところを***max_num + interval***にして、cutのところを___max_num + interval + 1___にすればうまくいく。"
   ]
  },
  {
   "cell_type": "code",
   "execution_count": 84,
   "metadata": {},
   "outputs": [
    {
     "name": "stdout",
     "output_type": "stream",
     "text": [
      "['0 - 9', '10 - 19', '20 - 29', '30 - 39', '40 - 49', '50 - 59', '60 - 69', '70 - 79', '80 - 89', '90 - 99', '100 - 109']\n"
     ]
    },
    {
     "data": {
      "text/plain": [
       "[0 - 9, 0 - 9, 0 - 9, 0 - 9, 0 - 9, ..., 90 - 99, 90 - 99, 90 - 99, 90 - 99, 100 - 109]\n",
       "Length: 101\n",
       "Categories (11, object): [0 - 9 < 10 - 19 < 20 - 29 < 30 - 39 ... 70 - 79 < 80 - 89 < 90 - 99 < 100 - 109]"
      ]
     },
     "execution_count": 84,
     "metadata": {},
     "output_type": "execute_result"
    }
   ],
   "source": [
    "max_num = 100\n",
    "interval = 10\n",
    "labels = [ \"{0} - {1}\".format(i, i + 9) for i in range(0, max_num + interval, 10) ]\n",
    "print(labels)\n",
    "c = pd.cut(df.index, np.arange(0, max_num + interval + 1, 10),\n",
    "           include_lowest=True, right=False,\n",
    "           labels=labels)\n",
    "c"
   ]
  },
  {
   "cell_type": "code",
   "execution_count": 86,
   "metadata": {},
   "outputs": [
    {
     "data": {
      "text/html": [
       "<div>\n",
       "<table border=\"1\" class=\"dataframe\">\n",
       "  <thead>\n",
       "    <tr style=\"text-align: right;\">\n",
       "      <th></th>\n",
       "      <th>1920</th>\n",
       "      <th>1930</th>\n",
       "      <th>1940</th>\n",
       "      <th>1950</th>\n",
       "      <th>1960</th>\n",
       "      <th>1970</th>\n",
       "      <th>1980</th>\n",
       "      <th>1990</th>\n",
       "      <th>2000</th>\n",
       "      <th>2010</th>\n",
       "    </tr>\n",
       "  </thead>\n",
       "  <tbody>\n",
       "    <tr>\n",
       "      <th>0 - 9</th>\n",
       "      <td>14314635</td>\n",
       "      <td>16778220</td>\n",
       "      <td>17961607</td>\n",
       "      <td>20728122</td>\n",
       "      <td>17049068</td>\n",
       "      <td>16965066</td>\n",
       "      <td>18547450</td>\n",
       "      <td>13959454</td>\n",
       "      <td>11925887</td>\n",
       "      <td>10882409</td>\n",
       "    </tr>\n",
       "    <tr>\n",
       "      <th>10 - 19</th>\n",
       "      <td>11520624</td>\n",
       "      <td>13340649</td>\n",
       "      <td>15816378</td>\n",
       "      <td>17267585</td>\n",
       "      <td>20326076</td>\n",
       "      <td>16921989</td>\n",
       "      <td>17231873</td>\n",
       "      <td>18533872</td>\n",
       "      <td>14034777</td>\n",
       "      <td>11984392</td>\n",
       "    </tr>\n",
       "    <tr>\n",
       "      <th>20 - 29</th>\n",
       "      <td>8533259</td>\n",
       "      <td>10367140</td>\n",
       "      <td>11756837</td>\n",
       "      <td>13910662</td>\n",
       "      <td>16527810</td>\n",
       "      <td>19749434</td>\n",
       "      <td>16882381</td>\n",
       "      <td>16870834</td>\n",
       "      <td>18211769</td>\n",
       "      <td>13720134</td>\n",
       "    </tr>\n",
       "    <tr>\n",
       "      <th>30 - 39</th>\n",
       "      <td>7020188</td>\n",
       "      <td>7798498</td>\n",
       "      <td>9370143</td>\n",
       "      <td>10250310</td>\n",
       "      <td>13555835</td>\n",
       "      <td>16578939</td>\n",
       "      <td>19973312</td>\n",
       "      <td>16791465</td>\n",
       "      <td>16891475</td>\n",
       "      <td>18127846</td>\n",
       "    </tr>\n",
       "    <tr>\n",
       "      <th>40 - 49</th>\n",
       "      <td>5902331</td>\n",
       "      <td>6332741</td>\n",
       "      <td>7041270</td>\n",
       "      <td>8487529</td>\n",
       "      <td>9835689</td>\n",
       "      <td>13217564</td>\n",
       "      <td>16427887</td>\n",
       "      <td>19676302</td>\n",
       "      <td>16716227</td>\n",
       "      <td>16774981</td>\n",
       "    </tr>\n",
       "    <tr>\n",
       "      <th>50 - 59</th>\n",
       "      <td>4074855</td>\n",
       "      <td>5046797</td>\n",
       "      <td>5446760</td>\n",
       "      <td>6137697</td>\n",
       "      <td>7842597</td>\n",
       "      <td>9230197</td>\n",
       "      <td>12813527</td>\n",
       "      <td>15813274</td>\n",
       "      <td>19176162</td>\n",
       "      <td>16308233</td>\n",
       "    </tr>\n",
       "    <tr>\n",
       "      <th>60 - 69</th>\n",
       "      <td>2968342</td>\n",
       "      <td>2977915</td>\n",
       "      <td>3782574</td>\n",
       "      <td>4074610</td>\n",
       "      <td>5092019</td>\n",
       "      <td>6709761</td>\n",
       "      <td>8429928</td>\n",
       "      <td>11848590</td>\n",
       "      <td>14841772</td>\n",
       "      <td>18247422</td>\n",
       "    </tr>\n",
       "    <tr>\n",
       "      <th>70 - 79</th>\n",
       "      <td>1378630</td>\n",
       "      <td>1478319</td>\n",
       "      <td>1541314</td>\n",
       "      <td>1967261</td>\n",
       "      <td>2518482</td>\n",
       "      <td>3401952</td>\n",
       "      <td>5059662</td>\n",
       "      <td>6835747</td>\n",
       "      <td>10051176</td>\n",
       "      <td>12904315</td>\n",
       "    </tr>\n",
       "    <tr>\n",
       "      <th>80 - 89</th>\n",
       "      <td>236419</td>\n",
       "      <td>315624</td>\n",
       "      <td>338472</td>\n",
       "      <td>354836</td>\n",
       "      <td>638738</td>\n",
       "      <td>879221</td>\n",
       "      <td>1503633</td>\n",
       "      <td>2665908</td>\n",
       "      <td>4147012</td>\n",
       "      <td>6768852</td>\n",
       "    </tr>\n",
       "    <tr>\n",
       "      <th>90 - 99</th>\n",
       "      <td>13657</td>\n",
       "      <td>13997</td>\n",
       "      <td>18567</td>\n",
       "      <td>16258</td>\n",
       "      <td>32043</td>\n",
       "      <td>65629</td>\n",
       "      <td>118391</td>\n",
       "      <td>286141</td>\n",
       "      <td>688769</td>\n",
       "      <td>1318463</td>\n",
       "    </tr>\n",
       "    <tr>\n",
       "      <th>100 - 109</th>\n",
       "      <td>113</td>\n",
       "      <td>105</td>\n",
       "      <td>187</td>\n",
       "      <td>97</td>\n",
       "      <td>144</td>\n",
       "      <td>308</td>\n",
       "      <td>989</td>\n",
       "      <td>3223</td>\n",
       "      <td>12256</td>\n",
       "      <td>43882</td>\n",
       "    </tr>\n",
       "  </tbody>\n",
       "</table>\n",
       "</div>"
      ],
      "text/plain": [
       "               1920      1930      1940      1950      1960      1970  \\\n",
       "0 - 9      14314635  16778220  17961607  20728122  17049068  16965066   \n",
       "10 - 19    11520624  13340649  15816378  17267585  20326076  16921989   \n",
       "20 - 29     8533259  10367140  11756837  13910662  16527810  19749434   \n",
       "30 - 39     7020188   7798498   9370143  10250310  13555835  16578939   \n",
       "40 - 49     5902331   6332741   7041270   8487529   9835689  13217564   \n",
       "50 - 59     4074855   5046797   5446760   6137697   7842597   9230197   \n",
       "60 - 69     2968342   2977915   3782574   4074610   5092019   6709761   \n",
       "70 - 79     1378630   1478319   1541314   1967261   2518482   3401952   \n",
       "80 - 89      236419    315624    338472    354836    638738    879221   \n",
       "90 - 99       13657     13997     18567     16258     32043     65629   \n",
       "100 - 109       113       105       187        97       144       308   \n",
       "\n",
       "               1980      1990      2000      2010  \n",
       "0 - 9      18547450  13959454  11925887  10882409  \n",
       "10 - 19    17231873  18533872  14034777  11984392  \n",
       "20 - 29    16882381  16870834  18211769  13720134  \n",
       "30 - 39    19973312  16791465  16891475  18127846  \n",
       "40 - 49    16427887  19676302  16716227  16774981  \n",
       "50 - 59    12813527  15813274  19176162  16308233  \n",
       "60 - 69     8429928  11848590  14841772  18247422  \n",
       "70 - 79     5059662   6835747  10051176  12904315  \n",
       "80 - 89     1503633   2665908   4147012   6768852  \n",
       "90 - 99      118391    286141    688769   1318463  \n",
       "100 - 109       989      3223     12256     43882  "
      ]
     },
     "execution_count": 86,
     "metadata": {},
     "output_type": "execute_result"
    }
   ],
   "source": [
    "df.groupby(c).sum()"
   ]
  },
  {
   "cell_type": "code",
   "execution_count": null,
   "metadata": {},
   "outputs": [],
   "source": []
  }
 ],
 "metadata": {
  "anaconda-cloud": {},
  "kernelspec": {
   "display_name": "Python [default]",
   "language": "python",
   "name": "python3"
  },
  "language_info": {
   "codemirror_mode": {
    "name": "ipython",
    "version": 3
   },
   "file_extension": ".py",
   "mimetype": "text/x-python",
   "name": "python",
   "nbconvert_exporter": "python",
   "pygments_lexer": "ipython3",
   "version": "3.5.2"
  },
  "nbTranslate": {
   "displayLangs": [
    "*"
   ],
   "hotkey": "alt-t",
   "langInMainMenu": true,
   "sourceLang": "en",
   "targetLang": "fr",
   "useGoogleTranslate": true
  }
 },
 "nbformat": 4,
 "nbformat_minor": 1
}
