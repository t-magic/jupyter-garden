{
 "cells": [
  {
   "cell_type": "markdown",
   "metadata": {},
   "source": [
    "# 行と列を合計の多い順にソートする\n",
    "* [Pandas のデータフレームをソートする – Python でデータサイエンス](https://pythondatascience.plavox.info/pandas/データフレームをソートする)\n",
    "* [pandas で行と列に合計値を追加する - Qiita](https://qiita.com/kshigeru/items/e108e714ad2dcaec69ee)"
   ]
  },
  {
   "cell_type": "markdown",
   "metadata": {},
   "source": [
    "## 準備"
   ]
  },
  {
   "cell_type": "code",
   "execution_count": 1,
   "metadata": {
    "collapsed": false
   },
   "outputs": [
    {
     "data": {
      "text/html": [
       "<div>\n",
       "<table border=\"1\" class=\"dataframe\">\n",
       "  <thead>\n",
       "    <tr style=\"text-align: right;\">\n",
       "      <th></th>\n",
       "      <th>A</th>\n",
       "      <th>B</th>\n",
       "      <th>C</th>\n",
       "      <th>D</th>\n",
       "    </tr>\n",
       "  </thead>\n",
       "  <tbody>\n",
       "    <tr>\n",
       "      <th>2013-01-06</th>\n",
       "      <td>0.619814</td>\n",
       "      <td>-0.195571</td>\n",
       "      <td>-0.100538</td>\n",
       "      <td>-0.784421</td>\n",
       "    </tr>\n",
       "    <tr>\n",
       "      <th>2013-01-05</th>\n",
       "      <td>0.417328</td>\n",
       "      <td>2.626056</td>\n",
       "      <td>-0.190929</td>\n",
       "      <td>1.777762</td>\n",
       "    </tr>\n",
       "    <tr>\n",
       "      <th>2013-01-04</th>\n",
       "      <td>0.744444</td>\n",
       "      <td>-0.286317</td>\n",
       "      <td>1.651094</td>\n",
       "      <td>0.397290</td>\n",
       "    </tr>\n",
       "    <tr>\n",
       "      <th>2013-01-03</th>\n",
       "      <td>0.052619</td>\n",
       "      <td>0.062861</td>\n",
       "      <td>2.077159</td>\n",
       "      <td>-0.586475</td>\n",
       "    </tr>\n",
       "    <tr>\n",
       "      <th>2013-01-02</th>\n",
       "      <td>0.002969</td>\n",
       "      <td>-2.278074</td>\n",
       "      <td>0.724188</td>\n",
       "      <td>-0.412756</td>\n",
       "    </tr>\n",
       "    <tr>\n",
       "      <th>2013-01-01</th>\n",
       "      <td>-0.493232</td>\n",
       "      <td>0.112845</td>\n",
       "      <td>-0.813486</td>\n",
       "      <td>1.090125</td>\n",
       "    </tr>\n",
       "  </tbody>\n",
       "</table>\n",
       "</div>"
      ],
      "text/plain": [
       "                   A         B         C         D\n",
       "2013-01-06  0.619814 -0.195571 -0.100538 -0.784421\n",
       "2013-01-05  0.417328  2.626056 -0.190929  1.777762\n",
       "2013-01-04  0.744444 -0.286317  1.651094  0.397290\n",
       "2013-01-03  0.052619  0.062861  2.077159 -0.586475\n",
       "2013-01-02  0.002969 -2.278074  0.724188 -0.412756\n",
       "2013-01-01 -0.493232  0.112845 -0.813486  1.090125"
      ]
     },
     "execution_count": 1,
     "metadata": {},
     "output_type": "execute_result"
    }
   ],
   "source": [
    "import pandas as pd\n",
    "import numpy as np\n",
    " \n",
    "# データフレーム df を作成\n",
    "dates = pd.date_range('20130101', periods=6)\n",
    "df = pd.DataFrame(np.random.randn(6,4), index=dates, columns=list('ABCD'))\n",
    " \n",
    "# 行名に基づいてソート\n",
    "df.sort_index(ascending=False)"
   ]
  },
  {
   "cell_type": "code",
   "execution_count": 2,
   "metadata": {
    "collapsed": false
   },
   "outputs": [
    {
     "data": {
      "text/html": [
       "<div>\n",
       "<table border=\"1\" class=\"dataframe\">\n",
       "  <thead>\n",
       "    <tr style=\"text-align: right;\">\n",
       "      <th></th>\n",
       "      <th>D</th>\n",
       "      <th>C</th>\n",
       "      <th>B</th>\n",
       "      <th>A</th>\n",
       "    </tr>\n",
       "  </thead>\n",
       "  <tbody>\n",
       "    <tr>\n",
       "      <th>2013-01-01</th>\n",
       "      <td>1.090125</td>\n",
       "      <td>-0.813486</td>\n",
       "      <td>0.112845</td>\n",
       "      <td>-0.493232</td>\n",
       "    </tr>\n",
       "    <tr>\n",
       "      <th>2013-01-02</th>\n",
       "      <td>-0.412756</td>\n",
       "      <td>0.724188</td>\n",
       "      <td>-2.278074</td>\n",
       "      <td>0.002969</td>\n",
       "    </tr>\n",
       "    <tr>\n",
       "      <th>2013-01-03</th>\n",
       "      <td>-0.586475</td>\n",
       "      <td>2.077159</td>\n",
       "      <td>0.062861</td>\n",
       "      <td>0.052619</td>\n",
       "    </tr>\n",
       "    <tr>\n",
       "      <th>2013-01-04</th>\n",
       "      <td>0.397290</td>\n",
       "      <td>1.651094</td>\n",
       "      <td>-0.286317</td>\n",
       "      <td>0.744444</td>\n",
       "    </tr>\n",
       "    <tr>\n",
       "      <th>2013-01-05</th>\n",
       "      <td>1.777762</td>\n",
       "      <td>-0.190929</td>\n",
       "      <td>2.626056</td>\n",
       "      <td>0.417328</td>\n",
       "    </tr>\n",
       "    <tr>\n",
       "      <th>2013-01-06</th>\n",
       "      <td>-0.784421</td>\n",
       "      <td>-0.100538</td>\n",
       "      <td>-0.195571</td>\n",
       "      <td>0.619814</td>\n",
       "    </tr>\n",
       "  </tbody>\n",
       "</table>\n",
       "</div>"
      ],
      "text/plain": [
       "                   D         C         B         A\n",
       "2013-01-01  1.090125 -0.813486  0.112845 -0.493232\n",
       "2013-01-02 -0.412756  0.724188 -2.278074  0.002969\n",
       "2013-01-03 -0.586475  2.077159  0.062861  0.052619\n",
       "2013-01-04  0.397290  1.651094 -0.286317  0.744444\n",
       "2013-01-05  1.777762 -0.190929  2.626056  0.417328\n",
       "2013-01-06 -0.784421 -0.100538 -0.195571  0.619814"
      ]
     },
     "execution_count": 2,
     "metadata": {},
     "output_type": "execute_result"
    }
   ],
   "source": [
    "# カラム名 (列名) に基づいてソート\n",
    "df.sort_index(axis=1, ascending=False)"
   ]
  },
  {
   "cell_type": "markdown",
   "metadata": {},
   "source": [
    "## やってみよう"
   ]
  },
  {
   "cell_type": "markdown",
   "metadata": {},
   "source": [
    "### 1. 行と列の合計を求める"
   ]
  },
  {
   "cell_type": "code",
   "execution_count": 3,
   "metadata": {
    "collapsed": false
   },
   "outputs": [
    {
     "data": {
      "text/html": [
       "<div>\n",
       "<table border=\"1\" class=\"dataframe\">\n",
       "  <thead>\n",
       "    <tr style=\"text-align: right;\">\n",
       "      <th></th>\n",
       "      <th>A</th>\n",
       "      <th>B</th>\n",
       "      <th>C</th>\n",
       "      <th>D</th>\n",
       "      <th>Total</th>\n",
       "    </tr>\n",
       "  </thead>\n",
       "  <tbody>\n",
       "    <tr>\n",
       "      <th>2013-01-01 00:00:00</th>\n",
       "      <td>-0.493232</td>\n",
       "      <td>0.112845</td>\n",
       "      <td>-0.813486</td>\n",
       "      <td>1.090125</td>\n",
       "      <td>-0.103748</td>\n",
       "    </tr>\n",
       "    <tr>\n",
       "      <th>2013-01-02 00:00:00</th>\n",
       "      <td>0.002969</td>\n",
       "      <td>-2.278074</td>\n",
       "      <td>0.724188</td>\n",
       "      <td>-0.412756</td>\n",
       "      <td>-1.963673</td>\n",
       "    </tr>\n",
       "    <tr>\n",
       "      <th>2013-01-03 00:00:00</th>\n",
       "      <td>0.052619</td>\n",
       "      <td>0.062861</td>\n",
       "      <td>2.077159</td>\n",
       "      <td>-0.586475</td>\n",
       "      <td>1.606164</td>\n",
       "    </tr>\n",
       "    <tr>\n",
       "      <th>2013-01-04 00:00:00</th>\n",
       "      <td>0.744444</td>\n",
       "      <td>-0.286317</td>\n",
       "      <td>1.651094</td>\n",
       "      <td>0.397290</td>\n",
       "      <td>2.506511</td>\n",
       "    </tr>\n",
       "    <tr>\n",
       "      <th>2013-01-05 00:00:00</th>\n",
       "      <td>0.417328</td>\n",
       "      <td>2.626056</td>\n",
       "      <td>-0.190929</td>\n",
       "      <td>1.777762</td>\n",
       "      <td>4.630217</td>\n",
       "    </tr>\n",
       "    <tr>\n",
       "      <th>2013-01-06 00:00:00</th>\n",
       "      <td>0.619814</td>\n",
       "      <td>-0.195571</td>\n",
       "      <td>-0.100538</td>\n",
       "      <td>-0.784421</td>\n",
       "      <td>-0.460717</td>\n",
       "    </tr>\n",
       "    <tr>\n",
       "      <th>Grand Total</th>\n",
       "      <td>1.343942</td>\n",
       "      <td>0.041801</td>\n",
       "      <td>3.347487</td>\n",
       "      <td>1.481524</td>\n",
       "      <td>6.214755</td>\n",
       "    </tr>\n",
       "  </tbody>\n",
       "</table>\n",
       "</div>"
      ],
      "text/plain": [
       "                            A         B         C         D     Total\n",
       "2013-01-01 00:00:00 -0.493232  0.112845 -0.813486  1.090125 -0.103748\n",
       "2013-01-02 00:00:00  0.002969 -2.278074  0.724188 -0.412756 -1.963673\n",
       "2013-01-03 00:00:00  0.052619  0.062861  2.077159 -0.586475  1.606164\n",
       "2013-01-04 00:00:00  0.744444 -0.286317  1.651094  0.397290  2.506511\n",
       "2013-01-05 00:00:00  0.417328  2.626056 -0.190929  1.777762  4.630217\n",
       "2013-01-06 00:00:00  0.619814 -0.195571 -0.100538 -0.784421 -0.460717\n",
       "Grand Total          1.343942  0.041801  3.347487  1.481524  6.214755"
      ]
     },
     "execution_count": 3,
     "metadata": {},
     "output_type": "execute_result"
    }
   ],
   "source": [
    "#df1 = df.copy()\n",
    "df1 = df\n",
    "df1 = pd.concat([df1,pd.DataFrame(df1.sum(axis=0),columns=['Grand Total']).T])\n",
    "df1 = pd.concat([df1,pd.DataFrame(df1.sum(axis=1),columns=['Total'])],axis=1)\n",
    "df1"
   ]
  },
  {
   "cell_type": "markdown",
   "metadata": {},
   "source": [
    "### 2. 行をソートする"
   ]
  },
  {
   "cell_type": "code",
   "execution_count": 4,
   "metadata": {
    "collapsed": false
   },
   "outputs": [
    {
     "data": {
      "text/html": [
       "<div>\n",
       "<table border=\"1\" class=\"dataframe\">\n",
       "  <thead>\n",
       "    <tr style=\"text-align: right;\">\n",
       "      <th></th>\n",
       "      <th>A</th>\n",
       "      <th>B</th>\n",
       "      <th>C</th>\n",
       "      <th>D</th>\n",
       "      <th>Total</th>\n",
       "    </tr>\n",
       "  </thead>\n",
       "  <tbody>\n",
       "    <tr>\n",
       "      <th>Grand Total</th>\n",
       "      <td>1.343942</td>\n",
       "      <td>0.041801</td>\n",
       "      <td>3.347487</td>\n",
       "      <td>1.481524</td>\n",
       "      <td>6.214755</td>\n",
       "    </tr>\n",
       "    <tr>\n",
       "      <th>2013-01-05 00:00:00</th>\n",
       "      <td>0.417328</td>\n",
       "      <td>2.626056</td>\n",
       "      <td>-0.190929</td>\n",
       "      <td>1.777762</td>\n",
       "      <td>4.630217</td>\n",
       "    </tr>\n",
       "    <tr>\n",
       "      <th>2013-01-04 00:00:00</th>\n",
       "      <td>0.744444</td>\n",
       "      <td>-0.286317</td>\n",
       "      <td>1.651094</td>\n",
       "      <td>0.397290</td>\n",
       "      <td>2.506511</td>\n",
       "    </tr>\n",
       "    <tr>\n",
       "      <th>2013-01-03 00:00:00</th>\n",
       "      <td>0.052619</td>\n",
       "      <td>0.062861</td>\n",
       "      <td>2.077159</td>\n",
       "      <td>-0.586475</td>\n",
       "      <td>1.606164</td>\n",
       "    </tr>\n",
       "    <tr>\n",
       "      <th>2013-01-01 00:00:00</th>\n",
       "      <td>-0.493232</td>\n",
       "      <td>0.112845</td>\n",
       "      <td>-0.813486</td>\n",
       "      <td>1.090125</td>\n",
       "      <td>-0.103748</td>\n",
       "    </tr>\n",
       "    <tr>\n",
       "      <th>2013-01-06 00:00:00</th>\n",
       "      <td>0.619814</td>\n",
       "      <td>-0.195571</td>\n",
       "      <td>-0.100538</td>\n",
       "      <td>-0.784421</td>\n",
       "      <td>-0.460717</td>\n",
       "    </tr>\n",
       "    <tr>\n",
       "      <th>2013-01-02 00:00:00</th>\n",
       "      <td>0.002969</td>\n",
       "      <td>-2.278074</td>\n",
       "      <td>0.724188</td>\n",
       "      <td>-0.412756</td>\n",
       "      <td>-1.963673</td>\n",
       "    </tr>\n",
       "  </tbody>\n",
       "</table>\n",
       "</div>"
      ],
      "text/plain": [
       "                            A         B         C         D     Total\n",
       "Grand Total          1.343942  0.041801  3.347487  1.481524  6.214755\n",
       "2013-01-05 00:00:00  0.417328  2.626056 -0.190929  1.777762  4.630217\n",
       "2013-01-04 00:00:00  0.744444 -0.286317  1.651094  0.397290  2.506511\n",
       "2013-01-03 00:00:00  0.052619  0.062861  2.077159 -0.586475  1.606164\n",
       "2013-01-01 00:00:00 -0.493232  0.112845 -0.813486  1.090125 -0.103748\n",
       "2013-01-06 00:00:00  0.619814 -0.195571 -0.100538 -0.784421 -0.460717\n",
       "2013-01-02 00:00:00  0.002969 -2.278074  0.724188 -0.412756 -1.963673"
      ]
     },
     "execution_count": 4,
     "metadata": {},
     "output_type": "execute_result"
    }
   ],
   "source": [
    "df1.sort_values(by='Total', ascending=False, inplace=True)\n",
    "df1"
   ]
  },
  {
   "cell_type": "markdown",
   "metadata": {},
   "source": [
    "### 3. 列をGrand Totalの行を使ってソートする"
   ]
  },
  {
   "cell_type": "code",
   "execution_count": 5,
   "metadata": {
    "collapsed": false
   },
   "outputs": [
    {
     "data": {
      "text/plain": [
       "Total    6.214755\n",
       "C        3.347487\n",
       "D        1.481524\n",
       "A        1.343942\n",
       "B        0.041801\n",
       "Name: Grand Total, dtype: float64"
      ]
     },
     "execution_count": 5,
     "metadata": {},
     "output_type": "execute_result"
    }
   ],
   "source": [
    "# Grand Totalの値でソートする\n",
    "s = df1.T['Grand Total'].sort_values(ascending=False)\n",
    "s"
   ]
  },
  {
   "cell_type": "code",
   "execution_count": 6,
   "metadata": {
    "collapsed": false
   },
   "outputs": [
    {
     "data": {
      "text/html": [
       "<div>\n",
       "<table border=\"1\" class=\"dataframe\">\n",
       "  <thead>\n",
       "    <tr style=\"text-align: right;\">\n",
       "      <th></th>\n",
       "      <th>Total</th>\n",
       "      <th>C</th>\n",
       "      <th>D</th>\n",
       "      <th>A</th>\n",
       "      <th>B</th>\n",
       "    </tr>\n",
       "  </thead>\n",
       "  <tbody>\n",
       "    <tr>\n",
       "      <th>Grand Total</th>\n",
       "      <td>6.214755</td>\n",
       "      <td>3.347487</td>\n",
       "      <td>1.481524</td>\n",
       "      <td>1.343942</td>\n",
       "      <td>0.041801</td>\n",
       "    </tr>\n",
       "    <tr>\n",
       "      <th>2013-01-05 00:00:00</th>\n",
       "      <td>4.630217</td>\n",
       "      <td>-0.190929</td>\n",
       "      <td>1.777762</td>\n",
       "      <td>0.417328</td>\n",
       "      <td>2.626056</td>\n",
       "    </tr>\n",
       "    <tr>\n",
       "      <th>2013-01-04 00:00:00</th>\n",
       "      <td>2.506511</td>\n",
       "      <td>1.651094</td>\n",
       "      <td>0.397290</td>\n",
       "      <td>0.744444</td>\n",
       "      <td>-0.286317</td>\n",
       "    </tr>\n",
       "    <tr>\n",
       "      <th>2013-01-03 00:00:00</th>\n",
       "      <td>1.606164</td>\n",
       "      <td>2.077159</td>\n",
       "      <td>-0.586475</td>\n",
       "      <td>0.052619</td>\n",
       "      <td>0.062861</td>\n",
       "    </tr>\n",
       "    <tr>\n",
       "      <th>2013-01-01 00:00:00</th>\n",
       "      <td>-0.103748</td>\n",
       "      <td>-0.813486</td>\n",
       "      <td>1.090125</td>\n",
       "      <td>-0.493232</td>\n",
       "      <td>0.112845</td>\n",
       "    </tr>\n",
       "    <tr>\n",
       "      <th>2013-01-06 00:00:00</th>\n",
       "      <td>-0.460717</td>\n",
       "      <td>-0.100538</td>\n",
       "      <td>-0.784421</td>\n",
       "      <td>0.619814</td>\n",
       "      <td>-0.195571</td>\n",
       "    </tr>\n",
       "    <tr>\n",
       "      <th>2013-01-02 00:00:00</th>\n",
       "      <td>-1.963673</td>\n",
       "      <td>0.724188</td>\n",
       "      <td>-0.412756</td>\n",
       "      <td>0.002969</td>\n",
       "      <td>-2.278074</td>\n",
       "    </tr>\n",
       "  </tbody>\n",
       "</table>\n",
       "</div>"
      ],
      "text/plain": [
       "                        Total         C         D         A         B\n",
       "Grand Total          6.214755  3.347487  1.481524  1.343942  0.041801\n",
       "2013-01-05 00:00:00  4.630217 -0.190929  1.777762  0.417328  2.626056\n",
       "2013-01-04 00:00:00  2.506511  1.651094  0.397290  0.744444 -0.286317\n",
       "2013-01-03 00:00:00  1.606164  2.077159 -0.586475  0.052619  0.062861\n",
       "2013-01-01 00:00:00 -0.103748 -0.813486  1.090125 -0.493232  0.112845\n",
       "2013-01-06 00:00:00 -0.460717 -0.100538 -0.784421  0.619814 -0.195571\n",
       "2013-01-02 00:00:00 -1.963673  0.724188 -0.412756  0.002969 -2.278074"
      ]
     },
     "execution_count": 6,
     "metadata": {},
     "output_type": "execute_result"
    }
   ],
   "source": [
    "# インデックスを取り出し、列をその並び順にする\n",
    "df1 = df1[s.index.tolist()]\n",
    "df1"
   ]
  },
  {
   "cell_type": "markdown",
   "metadata": {},
   "source": [
    "### 4. 追加した合計列、合計行を消す"
   ]
  },
  {
   "cell_type": "code",
   "execution_count": 7,
   "metadata": {
    "collapsed": false
   },
   "outputs": [
    {
     "data": {
      "text/html": [
       "<div>\n",
       "<table border=\"1\" class=\"dataframe\">\n",
       "  <thead>\n",
       "    <tr style=\"text-align: right;\">\n",
       "      <th></th>\n",
       "      <th>C</th>\n",
       "      <th>D</th>\n",
       "      <th>A</th>\n",
       "      <th>B</th>\n",
       "    </tr>\n",
       "  </thead>\n",
       "  <tbody>\n",
       "    <tr>\n",
       "      <th>2013-01-05 00:00:00</th>\n",
       "      <td>-0.190929</td>\n",
       "      <td>1.777762</td>\n",
       "      <td>0.417328</td>\n",
       "      <td>2.626056</td>\n",
       "    </tr>\n",
       "    <tr>\n",
       "      <th>2013-01-04 00:00:00</th>\n",
       "      <td>1.651094</td>\n",
       "      <td>0.397290</td>\n",
       "      <td>0.744444</td>\n",
       "      <td>-0.286317</td>\n",
       "    </tr>\n",
       "    <tr>\n",
       "      <th>2013-01-03 00:00:00</th>\n",
       "      <td>2.077159</td>\n",
       "      <td>-0.586475</td>\n",
       "      <td>0.052619</td>\n",
       "      <td>0.062861</td>\n",
       "    </tr>\n",
       "    <tr>\n",
       "      <th>2013-01-01 00:00:00</th>\n",
       "      <td>-0.813486</td>\n",
       "      <td>1.090125</td>\n",
       "      <td>-0.493232</td>\n",
       "      <td>0.112845</td>\n",
       "    </tr>\n",
       "    <tr>\n",
       "      <th>2013-01-06 00:00:00</th>\n",
       "      <td>-0.100538</td>\n",
       "      <td>-0.784421</td>\n",
       "      <td>0.619814</td>\n",
       "      <td>-0.195571</td>\n",
       "    </tr>\n",
       "    <tr>\n",
       "      <th>2013-01-02 00:00:00</th>\n",
       "      <td>0.724188</td>\n",
       "      <td>-0.412756</td>\n",
       "      <td>0.002969</td>\n",
       "      <td>-2.278074</td>\n",
       "    </tr>\n",
       "  </tbody>\n",
       "</table>\n",
       "</div>"
      ],
      "text/plain": [
       "                            C         D         A         B\n",
       "2013-01-05 00:00:00 -0.190929  1.777762  0.417328  2.626056\n",
       "2013-01-04 00:00:00  1.651094  0.397290  0.744444 -0.286317\n",
       "2013-01-03 00:00:00  2.077159 -0.586475  0.052619  0.062861\n",
       "2013-01-01 00:00:00 -0.813486  1.090125 -0.493232  0.112845\n",
       "2013-01-06 00:00:00 -0.100538 -0.784421  0.619814 -0.195571\n",
       "2013-01-02 00:00:00  0.724188 -0.412756  0.002969 -2.278074"
      ]
     },
     "execution_count": 7,
     "metadata": {},
     "output_type": "execute_result"
    }
   ],
   "source": [
    "df = df1.drop('Total', axis=1).drop('Grand Total')\n",
    "df"
   ]
  },
  {
   "cell_type": "markdown",
   "metadata": {},
   "source": [
    "### 以上で、行も列も合計の多い順になった。まとめると以下の通り"
   ]
  },
  {
   "cell_type": "code",
   "execution_count": 8,
   "metadata": {
    "collapsed": false
   },
   "outputs": [
    {
     "data": {
      "text/html": [
       "<div>\n",
       "<table border=\"1\" class=\"dataframe\">\n",
       "  <thead>\n",
       "    <tr style=\"text-align: right;\">\n",
       "      <th></th>\n",
       "      <th>Total</th>\n",
       "      <th>C</th>\n",
       "      <th>D</th>\n",
       "      <th>A</th>\n",
       "      <th>B</th>\n",
       "    </tr>\n",
       "  </thead>\n",
       "  <tbody>\n",
       "    <tr>\n",
       "      <th>Grand Total</th>\n",
       "      <td>6.214755</td>\n",
       "      <td>3.347487</td>\n",
       "      <td>1.481524</td>\n",
       "      <td>1.343942</td>\n",
       "      <td>0.041801</td>\n",
       "    </tr>\n",
       "    <tr>\n",
       "      <th>2013-01-05 00:00:00</th>\n",
       "      <td>4.630217</td>\n",
       "      <td>-0.190929</td>\n",
       "      <td>1.777762</td>\n",
       "      <td>0.417328</td>\n",
       "      <td>2.626056</td>\n",
       "    </tr>\n",
       "    <tr>\n",
       "      <th>2013-01-04 00:00:00</th>\n",
       "      <td>2.506511</td>\n",
       "      <td>1.651094</td>\n",
       "      <td>0.397290</td>\n",
       "      <td>0.744444</td>\n",
       "      <td>-0.286317</td>\n",
       "    </tr>\n",
       "    <tr>\n",
       "      <th>2013-01-03 00:00:00</th>\n",
       "      <td>1.606164</td>\n",
       "      <td>2.077159</td>\n",
       "      <td>-0.586475</td>\n",
       "      <td>0.052619</td>\n",
       "      <td>0.062861</td>\n",
       "    </tr>\n",
       "    <tr>\n",
       "      <th>2013-01-01 00:00:00</th>\n",
       "      <td>-0.103748</td>\n",
       "      <td>-0.813486</td>\n",
       "      <td>1.090125</td>\n",
       "      <td>-0.493232</td>\n",
       "      <td>0.112845</td>\n",
       "    </tr>\n",
       "    <tr>\n",
       "      <th>2013-01-06 00:00:00</th>\n",
       "      <td>-0.460717</td>\n",
       "      <td>-0.100538</td>\n",
       "      <td>-0.784421</td>\n",
       "      <td>0.619814</td>\n",
       "      <td>-0.195571</td>\n",
       "    </tr>\n",
       "    <tr>\n",
       "      <th>2013-01-02 00:00:00</th>\n",
       "      <td>-1.963673</td>\n",
       "      <td>0.724188</td>\n",
       "      <td>-0.412756</td>\n",
       "      <td>0.002969</td>\n",
       "      <td>-2.278074</td>\n",
       "    </tr>\n",
       "  </tbody>\n",
       "</table>\n",
       "</div>"
      ],
      "text/plain": [
       "                        Total         C         D         A         B\n",
       "Grand Total          6.214755  3.347487  1.481524  1.343942  0.041801\n",
       "2013-01-05 00:00:00  4.630217 -0.190929  1.777762  0.417328  2.626056\n",
       "2013-01-04 00:00:00  2.506511  1.651094  0.397290  0.744444 -0.286317\n",
       "2013-01-03 00:00:00  1.606164  2.077159 -0.586475  0.052619  0.062861\n",
       "2013-01-01 00:00:00 -0.103748 -0.813486  1.090125 -0.493232  0.112845\n",
       "2013-01-06 00:00:00 -0.460717 -0.100538 -0.784421  0.619814 -0.195571\n",
       "2013-01-02 00:00:00 -1.963673  0.724188 -0.412756  0.002969 -2.278074"
      ]
     },
     "execution_count": 8,
     "metadata": {},
     "output_type": "execute_result"
    }
   ],
   "source": [
    "def sort_columns_rows(df1, with_total = False, row_ascending = False, col_ascending = False, \\\n",
    "                      total_col_name = 'Total', total_index_name = 'Grand Total'):\n",
    "    #df1 = df\n",
    "    df1 = pd.concat([df1,pd.DataFrame(df1.sum(axis=0),columns=[total_index_name]).T])\n",
    "    df1 = pd.concat([df1,pd.DataFrame(df1.sum(axis=1),columns=[total_col_name])],axis=1)\n",
    "    df1.sort_values(by='Total', ascending=row_ascending, inplace=True)\n",
    "    s = df1.T['Grand Total'].sort_values(ascending=col_ascending)\n",
    "    df1 = df1[s.index.tolist()]\n",
    "    if with_total == False:\n",
    "        df1 = df1.drop('Total', axis=1).drop('Grand Total')\n",
    "    return df1\n",
    "\n",
    "#df = sort_columns_rows(df, with_total = True)\n",
    "#df\n",
    "sort_columns_rows(df, with_total = True)\n",
    "#sort_columns_rows(df)"
   ]
  },
  {
   "cell_type": "code",
   "execution_count": 9,
   "metadata": {
    "collapsed": false
   },
   "outputs": [
    {
     "data": {
      "text/html": [
       "<div>\n",
       "<table border=\"1\" class=\"dataframe\">\n",
       "  <thead>\n",
       "    <tr style=\"text-align: right;\">\n",
       "      <th></th>\n",
       "      <th>C</th>\n",
       "      <th>D</th>\n",
       "      <th>A</th>\n",
       "      <th>B</th>\n",
       "    </tr>\n",
       "  </thead>\n",
       "  <tbody>\n",
       "    <tr>\n",
       "      <th>2013-01-05 00:00:00</th>\n",
       "      <td>-0.190929</td>\n",
       "      <td>1.777762</td>\n",
       "      <td>0.417328</td>\n",
       "      <td>2.626056</td>\n",
       "    </tr>\n",
       "    <tr>\n",
       "      <th>2013-01-04 00:00:00</th>\n",
       "      <td>1.651094</td>\n",
       "      <td>0.397290</td>\n",
       "      <td>0.744444</td>\n",
       "      <td>-0.286317</td>\n",
       "    </tr>\n",
       "    <tr>\n",
       "      <th>2013-01-03 00:00:00</th>\n",
       "      <td>2.077159</td>\n",
       "      <td>-0.586475</td>\n",
       "      <td>0.052619</td>\n",
       "      <td>0.062861</td>\n",
       "    </tr>\n",
       "    <tr>\n",
       "      <th>2013-01-01 00:00:00</th>\n",
       "      <td>-0.813486</td>\n",
       "      <td>1.090125</td>\n",
       "      <td>-0.493232</td>\n",
       "      <td>0.112845</td>\n",
       "    </tr>\n",
       "    <tr>\n",
       "      <th>2013-01-06 00:00:00</th>\n",
       "      <td>-0.100538</td>\n",
       "      <td>-0.784421</td>\n",
       "      <td>0.619814</td>\n",
       "      <td>-0.195571</td>\n",
       "    </tr>\n",
       "    <tr>\n",
       "      <th>2013-01-02 00:00:00</th>\n",
       "      <td>0.724188</td>\n",
       "      <td>-0.412756</td>\n",
       "      <td>0.002969</td>\n",
       "      <td>-2.278074</td>\n",
       "    </tr>\n",
       "  </tbody>\n",
       "</table>\n",
       "</div>"
      ],
      "text/plain": [
       "                            C         D         A         B\n",
       "2013-01-05 00:00:00 -0.190929  1.777762  0.417328  2.626056\n",
       "2013-01-04 00:00:00  1.651094  0.397290  0.744444 -0.286317\n",
       "2013-01-03 00:00:00  2.077159 -0.586475  0.052619  0.062861\n",
       "2013-01-01 00:00:00 -0.813486  1.090125 -0.493232  0.112845\n",
       "2013-01-06 00:00:00 -0.100538 -0.784421  0.619814 -0.195571\n",
       "2013-01-02 00:00:00  0.724188 -0.412756  0.002969 -2.278074"
      ]
     },
     "execution_count": 9,
     "metadata": {},
     "output_type": "execute_result"
    }
   ],
   "source": [
    "sort_columns_rows(df)"
   ]
  },
  {
   "cell_type": "code",
   "execution_count": null,
   "metadata": {
    "collapsed": true
   },
   "outputs": [],
   "source": []
  }
 ],
 "metadata": {
  "anaconda-cloud": {},
  "kernelspec": {
   "display_name": "Python [default]",
   "language": "python",
   "name": "python3"
  },
  "language_info": {
   "codemirror_mode": {
    "name": "ipython",
    "version": 3
   },
   "file_extension": ".py",
   "mimetype": "text/x-python",
   "name": "python",
   "nbconvert_exporter": "python",
   "pygments_lexer": "ipython3",
   "version": "3.5.5"
  },
  "nbTranslate": {
   "displayLangs": [
    "*"
   ],
   "hotkey": "alt-t",
   "langInMainMenu": true,
   "sourceLang": "en",
   "targetLang": "fr",
   "useGoogleTranslate": true
  }
 },
 "nbformat": 4,
 "nbformat_minor": 1
}
